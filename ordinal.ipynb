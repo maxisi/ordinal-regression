{
 "cells": [
  {
   "cell_type": "code",
   "execution_count": 1,
   "metadata": {},
   "outputs": [],
   "source": [
    "%matplotlib inline"
   ]
  },
  {
   "cell_type": "code",
   "execution_count": 2,
   "metadata": {},
   "outputs": [],
   "source": [
    "import os\n",
    "os.environ[\"OMP_NUM_THREADS\"] = \"1\"\n",
    "\n",
    "# some default imports\n",
    "import numpy as np\n",
    "import matplotlib.pyplot as plt\n",
    "import pandas as pd\n",
    "import seaborn as sns\n",
    "\n",
    "# we will use arviz for some of the plotting\n",
    "import arviz as az\n",
    "\n",
    "# import jax and set it up to use double precision\n",
    "from jax import config\n",
    "config.update(\"jax_enable_x64\", True)\n",
    "\n",
    "import numpyro\n",
    "numpyro.set_host_device_count(4)\n",
    "numpyro.set_platform('cpu')\n",
    "\n",
    "from jax import numpy as jnp, random\n",
    "from numpyro import sample, handlers\n",
    "from numpyro.distributions import (\n",
    "    Categorical,\n",
    "    Dirichlet,\n",
    "    ImproperUniform,\n",
    "    Normal,\n",
    "    OrderedLogistic,\n",
    "    TransformedDistribution,\n",
    "    constraints,\n",
    "    transforms,\n",
    ")\n",
    "from numpyro.infer import MCMC, NUTS\n",
    "from numpyro.infer.reparam import TransformReparam\n",
    "\n",
    "# set plotting context\n",
    "sns.set_context('notebook')\n",
    "sns.set_palette('colorblind')"
   ]
  },
  {
   "cell_type": "markdown",
   "metadata": {},
   "source": [
    "# Ordinal regression"
   ]
  },
  {
   "cell_type": "markdown",
   "metadata": {},
   "source": [
    "Let's demonstrate a simple model of ordinal inference over a set of scores using _numpyro_. I'm going to follow closely the examples in the numpyro docs [here](https://num.pyro.ai/en/stable/tutorials/ordinal_regression.html), as well as Betancourt notes [here](https://betanalpha.github.io/assets/case_studies/ordinal_regression.html)."
   ]
  },
  {
   "cell_type": "markdown",
   "metadata": {},
   "source": [
    "## Background"
   ]
  },
  {
   "cell_type": "markdown",
   "metadata": {},
   "source": [
    "Let $Y$ be an ordinal variable (i.e., a variable that can only take one of a number of discrete, ordered values: $Y_0 < Y_1 < ... < Y_{K-1}$), for which we have a number of measurements (e.g., rankings from a survey of several respondents/judges). To get a posterior on the true value of $Y$, we will introduce an auxiliary latent variable $X$, which is defined over the reals ($X \\in \\mathbb{R}$). Instead of working directly in the discrete space of $Y$, we can model a latent distribution in the $X$ space, which is continuous and unbounded.\n",
    "\n",
    "To do this, we need a mapping from $X$ to $Y$ or, rather, a discretization procedure that takes us from $X$ to $Y$. This can be achieved by partitioning the $X$ domain into $K$ segments defined by a series of $K+1$ _cut points_ $c_k$, with $c_0 = -\\infty < c_1 < \\dots < c_{K-1} < c_K = \\infty$, so that probability mass within each $(c_k, c_{k+1})$ segment is assigned to $Y_k$.\n",
    "\n",
    "With this setup, all we need is a prescription for the probability density on $X$, $p(X)$. Within reason, the specific choice doesn't matter because we can always counteract changes in the shape of this distribution by tweaking the cut points, so we can pick $p(X)$ for computational convenience. A common choice is a logistic PDF, given by\n",
    "$$\n",
    "p(x) = \\frac{e^{-x}}{\\left(1 + e^{-x}\\right)^2} ~ ;\n",
    "$$\n",
    "the CDF of this PDF, i.e. $\\Phi(x) = \\int_\\infty^x p(x') {\\rm }dx'$, is the logistic function, namely\n",
    "$$\n",
    "\\Phi(x) = \\frac{e^{x}}{1+ e^{x}} ~ .\n",
    "$$\n",
    "This is an _ordinal logistic model_."
   ]
  },
  {
   "cell_type": "markdown",
   "metadata": {},
   "source": [
    "## Simple survey"
   ]
  },
  {
   "cell_type": "markdown",
   "metadata": {},
   "source": [
    "Imagine we have a survey with `n_bins` ranked categories to choose from (e.g., \"rank the quality of service from 0 to 5\"), and that we have received `n_resp` responses. Assuming there is a truth that the set of responses represent imperfectly, what is the \"true\" score for this question? We will answer this with ordinal regression, following the models cited above."
   ]
  },
  {
   "cell_type": "code",
   "execution_count": 4,
   "metadata": {},
   "outputs": [],
   "source": [
    "# # create some data based on Betancourt's example for sanity checking\n",
    "# scores = np.array([2, 4, 13, 22, 9])\n",
    "\n",
    "# n_bins = len(scores)\n",
    "# n_resp = sum(scores)"
   ]
  },
  {
   "cell_type": "markdown",
   "metadata": {},
   "source": [
    "Create some data based on the numpyro example for sanity checking. We can generate categorical data using the `Categorical` class in numpro; this will produce categorical draws for a number of bins, with probabilities specified by either a `probs` argument or a `logits` argument, which should be vectors with the same length as the number of bins. Recall that the logit is just an equivalent way of specifying the probability $p$, and it's given by\n",
    "$$\n",
    "l \\equiv {\\rm logit}(p) = \\ln\\left(\\frac{p}{1-p}\\right) ;\n",
    "$$ \n",
    "this corresponds to the log odds, i.e., the logarithm of the odds $p /( 1-p)$. The transformation from a set of logits to probabilities is obtained through the _softmax function_,\n",
    "$$\n",
    "p_i(\\{l_0, \\dots , l_{K-1}\\}) = \\frac{e^l_i}{\\sum_{k=0}^{K-1} e^{l_k}} ~ ,\n",
    "$$\n",
    "which guarantees that the probabilities are normalized correctly."
   ]
  },
  {
   "cell_type": "code",
   "execution_count": null,
   "metadata": {},
   "outputs": [
    {
     "name": "stdout",
     "output_type": "stream",
     "text": [
      "value counts of Y:\n",
      "Y\n",
      "0    19\n",
      "2    17\n",
      "1    14\n",
      "Name: count, dtype: int64\n",
      "mean(X) for Y == 0: 0.462\n",
      "mean(X) for Y == 1: 1.077\n",
      "mean(X) for Y == 2: 1.856\n"
     ]
    }
   ],
   "source": [
    "simkeys = random.split(random.PRNGKey(1), 2)\n",
    "\n",
    "n_resp = 50\n",
    "n_bins = 3\n",
    "\n",
    "# the Categorical class will draw samples from a categorical distribution\n",
    "# defined over a set of bins, with probabilities given by the logits argument\n",
    "Y = Categorical(logits=jnp.zeros(n_bins)).sample(simkeys[0], sample_shape=(n_resp,))\n",
    "\n",
    "# create corresponding noisy observations in the latent space of X by sampling\n",
    "# from a Normal distribution\n",
    "X = Normal().sample(simkeys[1], sample_shape=(n_resp,))\n",
    "X += Y\n",
    "\n",
    "print(\"value counts of Y:\")\n",
    "df = pd.DataFrame({\"X\": X, \"Y\": Y})\n",
    "print(df.Y.value_counts())\n",
    "\n",
    "for i in range(n_bins):\n",
    "    print(f\"mean(X) for Y == {i}: {X[jnp.where(Y==i)].mean():.3f}\")"
   ]
  },
  {
   "cell_type": "code",
   "execution_count": 5,
   "metadata": {},
   "outputs": [
    {
     "data": {
      "image/png": "[encoded data removed]",
      "text/plain": [
       "<Figure size 640x480 with 1 Axes>"
      ]
     },
     "metadata": {},
     "output_type": "display_data"
    }
   ],
   "source": [
    "sns.violinplot(x=\"Y\", y=\"X\", data=df);"
   ]
  },
  {
   "cell_type": "code",
   "execution_count": 54,
   "metadata": {},
   "outputs": [],
   "source": [
    "# df = pd.read_csv('ranking_data_anon.csv', index_col=None)\n",
    "# df[df['Category'] == 'Clarity']['Candidate-0']"
   ]
  },
  {
   "cell_type": "code",
   "execution_count": 57,
   "metadata": {},
   "outputs": [
    {
     "name": "stderr",
     "output_type": "stream",
     "text": [
      "sample: 100%|██████████| 1000/1000 [00:01<00:00, 585.00it/s, 7 steps of size 4.27e-01. acc. prob=0.94]\n"
     ]
    },
    {
     "name": "stdout",
     "output_type": "stream",
     "text": [
      "\n",
      "                mean       std    median      5.0%     95.0%     n_eff     r_hat\n",
      "   b_X_eta      1.07      0.27      1.06      0.63      1.50    419.55      1.00\n",
      "    c_y[0]      0.48      0.38      0.47     -0.15      1.06    459.36      1.00\n",
      "    c_y[1]      2.06      0.47      2.02      1.22      2.73    447.09      1.00\n",
      "\n",
      "Number of divergences: 0\n"
     ]
    }
   ],
   "source": [
    "def model1(X, Y, nclasses=3):\n",
    "    b_X_eta = sample(\"b_X_eta\", Normal(0, 5))\n",
    "    c_y = sample(\n",
    "        \"c_y\",\n",
    "        ImproperUniform(\n",
    "            support=constraints.ordered_vector,\n",
    "            batch_shape=(),\n",
    "            event_shape=(nclasses - 1,),\n",
    "        ),\n",
    "    )\n",
    "    with numpyro.plate(\"obs\", X.shape[0]):\n",
    "        eta = X * b_X_eta\n",
    "        sample(\"Y\", OrderedLogistic(eta, c_y), obs=Y)\n",
    "\n",
    "\n",
    "mcmc_key = random.PRNGKey(1234)\n",
    "kernel = NUTS(model1)\n",
    "mcmc = MCMC(kernel, num_warmup=250, num_samples=750)\n",
    "mcmc.run(mcmc_key, X, Y, n_bins)\n",
    "mcmc.print_summary()"
   ]
  },
  {
   "cell_type": "code",
   "execution_count": null,
   "metadata": {},
   "outputs": [],
   "source": []
  }
 ],
 "metadata": {
  "kernelspec": {
   "display_name": "ordinal",
   "language": "python",
   "name": "python3"
  },
  "language_info": {
   "codemirror_mode": {
    "name": "ipython",
    "version": 3
   },
   "file_extension": ".py",
   "mimetype": "text/x-python",
   "name": "python",
   "nbconvert_exporter": "python",
   "pygments_lexer": "ipython3",
   "version": "3.12.3"
  }
 },
 "nbformat": 4,
 "nbformat_minor": 2
}
